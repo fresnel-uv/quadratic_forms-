{
 "cells": [
  {
   "cell_type": "markdown",
   "id": "127b4689",
   "metadata": {},
   "source": [
    "# Implementation of Theorem 18 for the quadratic form $x^2 + 2zy^2 = 512nz^2$"
   ]
  },
  {
   "cell_type": "markdown",
   "id": "9d5a6bd4",
   "metadata": {},
   "source": [
    "# Library Importation"
   ]
  },
  {
   "cell_type": "code",
   "execution_count": 48,
   "id": "24d1657d",
   "metadata": {},
   "outputs": [],
   "source": [
    "import pandas as pd\n",
    "import sympy as sp\n",
    "from IPython.display import display"
   ]
  },
  {
   "cell_type": "markdown",
   "id": "c4ebae20",
   "metadata": {},
   "source": [
    "# Class definitions and solution construction"
   ]
  },
  {
   "cell_type": "markdown",
   "id": "df888456",
   "metadata": {},
   "source": [
    "## Diophantine Solver for $x^2 + 2zy^2 = 512nz^2$ "
   ]
  },
  {
   "cell_type": "code",
   "execution_count": 49,
   "id": "4bdabf86",
   "metadata": {},
   "outputs": [],
   "source": [
    "class DiophantineSolver:\n",
    "    def __init__(self, z: int, max_n: int = 50, max_solutions_per_n: int = 10):\n",
    "        self.z = z\n",
    "        self.max_n = max_n\n",
    "        self.max_solutions_per_n = max_solutions_per_n\n",
    "        self.x, self.y = sp.symbols('x y', integer=True)\n",
    "        self.mod_val = 32 * self.z\n",
    "        self.x_constraint = 0\n",
    "        self.y_constraint = 16 * self.z\n",
    "        self.results_df = pd.DataFrame(columns=[\"x\", \"y\", \"n\"])\n",
    "\n",
    "    def _satisfies_constraints(self, x_val, y_val):\n",
    "        return (\n",
    "            x_val >= 0 and\n",
    "            y_val >= 0 and\n",
    "            x_val % self.mod_val == self.x_constraint and\n",
    "            y_val % self.mod_val == self.y_constraint\n",
    "        )\n",
    "\n",
    "    def _solve_for_n(self, n):\n",
    "        rhs = 512 * n * self.z**2\n",
    "        eq = sp.Eq(self.x**2 + 2 * self.z * self.y**2, rhs)\n",
    "        try:\n",
    "            solutions = sp.diophantine(eq)\n",
    "            count = 0\n",
    "            seen = set()\n",
    "\n",
    "            for sol in solutions:\n",
    "                if len(sol) != 2:\n",
    "                    continue\n",
    "                x_expr, y_expr = sol\n",
    "                try:\n",
    "                    x_val = int(x_expr)\n",
    "                    y_val = int(y_expr)\n",
    "                except (TypeError, ValueError):\n",
    "                    continue\n",
    "\n",
    "                if self._satisfies_constraints(x_val, y_val) and (x_val, y_val) not in seen:\n",
    "                    self.results_df.loc[len(self.results_df)] = [x_val, y_val, n]\n",
    "                    seen.add((x_val, y_val))\n",
    "                    count += 1\n",
    "\n",
    "                if count >= self.max_solutions_per_n:\n",
    "                    break\n",
    "\n",
    "        except Exception as e:\n",
    "            print(f\"Error solving for n = {n}: {e}\")\n",
    "\n",
    "    def solve(self):\n",
    "        for n in range(1, self.max_n + 1):\n",
    "            self._solve_for_n(n)\n",
    "        return self.results_df"
   ]
  },
  {
   "cell_type": "markdown",
   "id": "1a7b893f",
   "metadata": {},
   "source": [
    "## Pell solver for $a^2 - 2b^2 = 2z+1$ and $u^2 - 2v^2 = -2$"
   ]
  },
  {
   "cell_type": "code",
   "execution_count": 50,
   "id": "28210b2b",
   "metadata": {},
   "outputs": [],
   "source": [
    "class PellSolver:\n",
    "    def __init__(self, z: int):\n",
    "        self.z = z\n",
    "        self.A, self.B = sp.symbols('a b', integer=True)\n",
    "        self.U, self.V = sp.symbols('u v', integer=True)\n",
    "        self.results = {}\n",
    "\n",
    "    def _extract_sample_solution(self, solns):\n",
    "        for sol in solns:\n",
    "            if all(expr.free_symbols == set() for expr in sol):\n",
    "                return tuple(abs(int(expr)) for expr in sol)\n",
    "            else:\n",
    "                params = set()\n",
    "                for expr in sol:\n",
    "                    params.update(expr.free_symbols)\n",
    "                subs = {param: 1 for param in params}\n",
    "                try:\n",
    "                    return tuple(abs(int(expr.subs(subs))) for expr in sol)\n",
    "                except Exception:\n",
    "                    continue\n",
    "        return None\n",
    "\n",
    "    def solve(self):\n",
    "        eq1 = sp.Eq(self.A**2 - 2 * self.B**2, 2 * self.z)\n",
    "        eq2 = sp.Eq(self.U**2 - 2 * self.V**2, -2)\n",
    "        self.results['eq1'] = self._extract_sample_solution(sp.diophantine(eq1))\n",
    "        self.results['eq2'] = self._extract_sample_solution(sp.diophantine(eq2))\n",
    "        return self.results"
   ]
  },
  {
   "cell_type": "markdown",
   "id": "ee2bfc8a",
   "metadata": {},
   "source": [
    "## Solution triple construction w.r.t Theorem 17"
   ]
  },
  {
   "cell_type": "code",
   "execution_count": 51,
   "id": "284955bd",
   "metadata": {},
   "outputs": [],
   "source": [
    "def run_full_solver():\n",
    "    z = int(input(\"Enter z: \"))\n",
    "    max_n = int(input(\"Enter max_n: \"))\n",
    "    max_solutions_per_n = int(input(\"Enter max_solutions_per_n: \"))\n",
    "    iterations = int(input(\"Enter number of iterations for matrix multiplication: \"))\n",
    "\n",
    "    dio_solver = DiophantineSolver(z=z, max_n=max_n, max_solutions_per_n=max_solutions_per_n)\n",
    "    dio_solver.solve()\n",
    "\n",
    "    pell_solver = PellSolver(z=z)\n",
    "    pell_results = pell_solver.solve()\n",
    "\n",
    "    if not pell_results.get('eq1') or not pell_results.get('eq2'):\n",
    "        print(\"No Pell solutions found.\")\n",
    "        return pd.DataFrame()\n",
    "\n",
    "    a, b = pell_results['eq1']\n",
    "    u, v = pell_results['eq2']\n",
    "\n",
    "    T = sp.Matrix([[3, 4], [2, 3]])\n",
    "    uv_vec = sp.Matrix([[u], [v]])\n",
    "\n",
    "    denom = 32 * z\n",
    "    numer_const = 16 * z\n",
    "\n",
    "    for _ in range(iterations):\n",
    "        u_n, v_n = int(uv_vec[0]), int(uv_vec[1])\n",
    "        triples = []\n",
    "\n",
    "        for _, row in dio_solver.results_df.iterrows():\n",
    "            x, y, n = row['x'], row['y'], row['n']\n",
    "            x_k = x / denom\n",
    "            y_k = (y - numer_const) / denom\n",
    "\n",
    "            if not (x_k.is_integer() and y_k.is_integer()):\n",
    "                triples.append(None)\n",
    "                continue\n",
    "\n",
    "            x_k, y_k = int(x_k), int(y_k)\n",
    "\n",
    "            term1 = (2 * y_k + 1) * (b * u_n + a * v_n)\n",
    "            term2 = (2 * x_k)\n",
    "\n",
    "            X = (term1 + term2) // 2\n",
    "            Y = (term1 - term2) // 2\n",
    "            Z = ((2 * y_k + 1) * (a * u_n + 2 * b * v_n)) // 2\n",
    "\n",
    "            triples.append((X, Y, Z))\n",
    "\n",
    "        col_name = f\"({u_n},{v_n})\"\n",
    "        dio_solver.results_df[col_name] = triples\n",
    "        uv_vec = T @ uv_vec\n",
    "\n",
    "    return dio_solver.results_df"
   ]
  },
  {
   "cell_type": "markdown",
   "id": "df441bea",
   "metadata": {},
   "source": [
    "# Run Output"
   ]
  },
  {
   "cell_type": "code",
   "execution_count": 52,
   "id": "f51ad95e",
   "metadata": {},
   "outputs": [
    {
     "data": {
      "text/html": [
       "<div>\n",
       "<style scoped>\n",
       "    .dataframe tbody tr th:only-of-type {\n",
       "        vertical-align: middle;\n",
       "    }\n",
       "\n",
       "    .dataframe tbody tr th {\n",
       "        vertical-align: top;\n",
       "    }\n",
       "\n",
       "    .dataframe thead th {\n",
       "        text-align: right;\n",
       "    }\n",
       "</style>\n",
       "<table border=\"1\" class=\"dataframe\">\n",
       "  <thead>\n",
       "    <tr style=\"text-align: right;\">\n",
       "      <th></th>\n",
       "      <th>x</th>\n",
       "      <th>y</th>\n",
       "      <th>n</th>\n",
       "      <th>(4,3)</th>\n",
       "      <th>(24,17)</th>\n",
       "      <th>(140,99)</th>\n",
       "      <th>(816,577)</th>\n",
       "      <th>(4756,3363)</th>\n",
       "    </tr>\n",
       "  </thead>\n",
       "  <tbody>\n",
       "    <tr>\n",
       "      <th>0</th>\n",
       "      <td>0</td>\n",
       "      <td>576</td>\n",
       "      <td>36</td>\n",
       "      <td>(174, 174, 246)</td>\n",
       "      <td>(1014, 1014, 1434)</td>\n",
       "      <td>(5910, 5910, 8358)</td>\n",
       "      <td>(34446, 34446, 48714)</td>\n",
       "      <td>(200766, 200766, 283926)</td>\n",
       "    </tr>\n",
       "  </tbody>\n",
       "</table>\n",
       "</div>"
      ],
      "text/plain": [
       "   x    y   n            (4,3)             (24,17)            (140,99)  \\\n",
       "0  0  576  36  (174, 174, 246)  (1014, 1014, 1434)  (5910, 5910, 8358)   \n",
       "\n",
       "               (816,577)               (4756,3363)  \n",
       "0  (34446, 34446, 48714)  (200766, 200766, 283926)  "
      ]
     },
     "metadata": {},
     "output_type": "display_data"
    }
   ],
   "source": [
    "if __name__ == \"__main__\":\n",
    "    final_df = run_full_solver()\n",
    "    display(final_df)"
   ]
  }
 ],
 "metadata": {
  "kernelspec": {
   "display_name": "Python 3 (ipykernel)",
   "language": "python",
   "name": "python3"
  },
  "language_info": {
   "codemirror_mode": {
    "name": "ipython",
    "version": 3
   },
   "file_extension": ".py",
   "mimetype": "text/x-python",
   "name": "python",
   "nbconvert_exporter": "python",
   "pygments_lexer": "ipython3",
   "version": "3.13.1"
  }
 },
 "nbformat": 4,
 "nbformat_minor": 5
}
